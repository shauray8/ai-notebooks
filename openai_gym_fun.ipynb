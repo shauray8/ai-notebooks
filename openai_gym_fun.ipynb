{
 "cells": [
  {
   "cell_type": "code",
   "execution_count": null,
   "metadata": {},
   "outputs": [
    {
     "name": "stdout",
     "output_type": "stream",
     "text": [
      "0\n",
      "Episode:0 avg: -200.0 min: -200.0 max: -200.0 state: [-0.56780628 -0.01296347]\n"
     ]
    }
   ],
   "source": [
    "import gym\n",
    "import time\n",
    "import numpy as np\n",
    "import matplotlib.pyplot as plt\n",
    "\n",
    "env = gym.make(\"MountainCar-v0\")\n",
    "\n",
    "# print(env.observation_space.high)\n",
    "# print(env.observation_space.low)\n",
    "# print(env.action_space.n)\n",
    "\n",
    "LEARNING_RATE = 0.1\n",
    "DISCOUNT = 0.95\n",
    "EPISODES = 2000\n",
    "SHOW_EVERY = 500\n",
    "EPSILON = 0.5\n",
    "START_EPSILON_DECAYING = 1\n",
    "END_EPISION_DECAYING = EPISODES // 2\n",
    "\n",
    "epsilon_decay_value = EPSILON/(END_EPISION_DECAYING - START_EPSILON_DECAYING)\n",
    "\n",
    "#Q-table logic\n",
    "DISCRETE_OS_SIZE = [20]*len(env.observation_space.high)\n",
    "discrete_os_win_size = (env.observation_space.high-env.observation_space.low)/DISCRETE_OS_SIZE\n",
    "#print(discrete_os_win_size)\n",
    "\n",
    "q_table = np.random.uniform(low=-2, high=0, size=(DISCRETE_OS_SIZE+[env.action_space.n]))\n",
    "# print(q_table.shape)\n",
    "\n",
    "ep_rewards = []\n",
    "aggr_ep_reward = {\"ep\": [], \"avg\": [], \"min\":[], \"max\":[]}\n",
    "\n",
    "\n",
    "def get_discrete_state(state):\n",
    "    discrete_state = (state-env.observation_space.low)/discrete_os_win_size\n",
    "    return tuple(discrete_state.astype(np.int))\n",
    "\n",
    "\n",
    "for episode in range(EPISODES):\n",
    "    episode_reward = 0\n",
    "    if episode % SHOW_EVERY == 0:\n",
    "        render = True\n",
    "        print(episode)\n",
    "    else:\n",
    "        render = False\n",
    "    \n",
    "    discrete_state = get_discrete_state(env.reset())\n",
    "    # print(discrete_state)\n",
    "    # print(np.argmax(q_table[discrete_state]))\n",
    "\n",
    "    done = False \n",
    "    while not done:\n",
    "        if np.random.random() > EPSILON:\n",
    "            action = np.argmax(q_table[discrete_state])\n",
    "        else:\n",
    "            action = np.random.randint(0, env.action_space.n)\n",
    "        state_prime, reward, done, _ = env.step(action)\n",
    "        episode_reward += reward\n",
    "        #print(reward,state_prime)\n",
    "        new_discrete_state = get_discrete_state(state_prime)\n",
    "        if render:\n",
    "            env.render()\n",
    "        if not done:\n",
    "            max_feature_q = np.max(q_table[new_discrete_state])\n",
    "            current_q = q_table[discrete_state + (action, )]\n",
    "\n",
    "            new_q = (1-LEARNING_RATE)*current_q+LEARNING_RATE*(reward+DISCOUNT*max_feature_q)\n",
    "            q_table[discrete_state+(action, )] = new_q\n",
    "\n",
    "        elif state_prime[0] >= env.goal_position:\n",
    "            q_table[discrete_state+(action, )] = 0\n",
    "\n",
    "        discrete_state = new_discrete_state\n",
    "    if END_EPISION_DECAYING >= episode >= START_EPSILON_DECAYING:\n",
    "        EPSILON -= epsilon_decay_value\n",
    "    ep_rewards.append(episode_reward)\n",
    "    \n",
    "    if not episode % SHOW_EVERY:\n",
    "        average_reward = sum(ep_rewards[-SHOW_EVERY:])/len(ep_rewards[-SHOW_EVERY:])\n",
    "        aggr_ep_reward[\"ep\"].append(episode)\n",
    "        aggr_ep_reward[\"avg\"].append(average_reward)\n",
    "        aggr_ep_reward[\"min\"].append(min(ep_rewards[-SHOW_EVERY:]))\n",
    "        aggr_ep_reward[\"max\"].append(max(ep_rewards[-SHOW_EVERY:]))\n",
    "        \n",
    "        print(f\"Episode:{episode} avg: {average_reward} min: {min(ep_rewards[-SHOW_EVERY:])} max: {max(ep_rewards[-SHOW_EVERY:])} state: {state_prime}\")\n",
    "              \n",
    "    env.close()\n",
    "              \n",
    "plt.plot(aggr_ep_reward[\"ep\"], aggr_ep_reward['avg'], label=\"avg\")             \n",
    "plt.plot(aggr_ep_reward[\"ep\"], aggr_ep_reward['min'], label=\"min\")             \n",
    "plt.plot(aggr_ep_reward[\"ep\"], aggr_ep_reward['max'], label=\"max\")\n",
    "plt.legend(loc=4)\n",
    "plt.show()"
   ]
  },
  {
   "cell_type": "code",
   "execution_count": null,
   "metadata": {},
   "outputs": [],
   "source": []
  },
  {
   "cell_type": "markdown",
   "metadata": {},
   "source": [
    "## CARTPOLE "
   ]
  },
  {
   "cell_type": "code",
   "execution_count": 4,
   "metadata": {},
   "outputs": [],
   "source": [
    "import numpy as np\n",
    "import time, gym\n",
    "import matplotlib.pyplot as plt\n",
    "import tqdm \n",
    "import torch \n",
    "import torch.nn as nn\n"
   ]
  },
  {
   "cell_type": "code",
   "execution_count": 5,
   "metadata": {},
   "outputs": [
    {
     "name": "stdout",
     "output_type": "stream",
     "text": [
      "Box(-3.4028234663852886e+38, 3.4028234663852886e+38, (4,), float32)\n",
      "2\n"
     ]
    }
   ],
   "source": [
    "env = gym.make(\"CartPole-v0\")\n",
    "env.seed()\n",
    "print(env.observation_space)\n",
    "print(env.action_space.n)\n",
    "\n",
    "class create_cartpole(nn.Module):\n",
    "    def __init__(self):\n",
    "        super(create_cartpole, self).__init__()\n",
    "        model  = [nn.Linear(32),\n",
    "                 nn.ReLU()]\n",
    "        self.a = nn.Sequential(*model)\n",
    "        \n",
    "    def forward(self, x):\n",
    "        return self.a\n",
    "    \n"
   ]
  },
  {
   "cell_type": "code",
   "execution_count": 1,
   "metadata": {},
   "outputs": [
    {
     "name": "stdout",
     "output_type": "stream",
     "text": [
      "[1. 1. 8.]\n",
      "[-1. -1. -8.]\n",
      "Box(-2.0, 2.0, (1,), float32)\n",
      "[-0.50689903 -0.86200544 -0.64531948] -4.288245488572728 1\n"
     ]
    }
   ],
   "source": [
    "import gym\n",
    "env = gym.make(\"Pendulum-v0\")\n",
    "done = False\n",
    "print(env.observation_space.high)\n",
    "print(env.observation_space.low)\n",
    "print(env.action_space)\n",
    "number = 0\n",
    "while not done:\n",
    "    env.reset()\n",
    "    number += 1\n",
    "    action = (1,)\n",
    "    state_prime, reward, done, _ = env.step(action)\n",
    "    env.render()\n",
    "    done = True\n",
    "    print(state_prime, reward, number)"
   ]
  },
  {
   "cell_type": "code",
   "execution_count": null,
   "metadata": {},
   "outputs": [],
   "source": []
  }
 ],
 "metadata": {
  "kernelspec": {
   "display_name": "Python 3",
   "language": "python",
   "name": "python3"
  },
  "language_info": {
   "codemirror_mode": {
    "name": "ipython",
    "version": 3
   },
   "file_extension": ".py",
   "mimetype": "text/x-python",
   "name": "python",
   "nbconvert_exporter": "python",
   "pygments_lexer": "ipython3",
   "version": "3.8.6"
  }
 },
 "nbformat": 4,
 "nbformat_minor": 4
}
