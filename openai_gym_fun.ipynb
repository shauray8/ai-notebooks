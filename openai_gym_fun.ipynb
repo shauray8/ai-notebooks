{
 "cells": [
  {
   "cell_type": "code",
   "execution_count": 2,
   "metadata": {},
   "outputs": [
    {
     "name": "stdout",
     "output_type": "stream",
     "text": [
      "0\n",
      "Episode:0 avg: -200.0 min: -200.0 max: -200.0\n",
      "500\n",
      "Episode:500 avg: -200.0 min: -200.0 max: -200.0\n",
      "1000\n",
      "Episode:1000 avg: -199.226 min: -200.0 max: -123.0\n",
      "1500\n",
      "Episode:1500 avg: -192.112 min: -200.0 max: -123.0\n"
     ]
    },
    {
     "data": {
      "image/png": "[encoded data removed]",
      "text/plain": [
       "<Figure size 432x288 with 1 Axes>"
      ]
     },
     "metadata": {
      "needs_background": "light"
     },
     "output_type": "display_data"
    }
   ],
   "source": [
    "import gym\n",
    "import time\n",
    "import numpy as np\n",
    "import matplotlib.pyplot as plt\n",
    "\n",
    "env = gym.make(\"MountainCar-v0\")\n",
    "\n",
    "# print(env.observation_space.high)\n",
    "# print(env.observation_space.low)\n",
    "# print(env.action_space.n)\n",
    "\n",
    "LEARNING_RATE = 0.1\n",
    "DISCOUNT = 0.95\n",
    "EPISODES = 2000\n",
    "SHOW_EVERY = 500\n",
    "EPSILON = 0.5\n",
    "START_EPSILON_DECAYING = 1\n",
    "END_EPISION_DECAYING = EPISODES // 2\n",
    "\n",
    "epsilon_decay_value = EPSILON/(END_EPISION_DECAYING - START_EPSILON_DECAYING)\n",
    "\n",
    "#Q-table logic\n",
    "DISCRETE_OS_SIZE = [20]*len(env.observation_space.high)\n",
    "discrete_os_win_size = (env.observation_space.high-env.observation_space.low)/DISCRETE_OS_SIZE\n",
    "#print(discrete_os_win_size)\n",
    "\n",
    "q_table = np.random.uniform(low=-2, high=0, size=(DISCRETE_OS_SIZE+[env.action_space.n]))\n",
    "# print(q_table.shape)\n",
    "\n",
    "ep_rewards = []\n",
    "aggr_ep_reward = {\"ep\": [], \"avg\": [], \"min\":[], \"max\":[]}\n",
    "\n",
    "\n",
    "def get_discrete_state(state):\n",
    "    discrete_state = (state-env.observation_space.low)/discrete_os_win_size\n",
    "    return tuple(discrete_state.astype(np.int))\n",
    "\n",
    "\n",
    "for episode in range(EPISODES):\n",
    "    episode_reward = 0\n",
    "    if episode % SHOW_EVERY == 0:\n",
    "        render = True\n",
    "        print(episode)\n",
    "    else:\n",
    "        render = False\n",
    "    \n",
    "    discrete_state = get_discrete_state(env.reset())\n",
    "    # print(discrete_state)\n",
    "    # print(np.argmax(q_table[discrete_state]))\n",
    "\n",
    "    done = False \n",
    "    while not done:\n",
    "        if np.random.random() > EPSILON:\n",
    "            action = np.argmax(q_table[discrete_state])\n",
    "        else:\n",
    "            action = np.random.randint(0, env.action_space.n)\n",
    "        state_prime, reward, done, _ = env.step(action)\n",
    "        episode_reward += reward\n",
    "        #print(reward,state_prime)\n",
    "        new_discrete_state = get_discrete_state(state_prime)\n",
    "        if render:\n",
    "            env.render()\n",
    "        if not done:\n",
    "            max_feature_q = np.max(q_table[new_discrete_state])\n",
    "            current_q = q_table[discrete_state + (action, )]\n",
    "\n",
    "            new_q = (1-LEARNING_RATE)*current_q+LEARNING_RATE*(reward+DISCOUNT*max_feature_q)\n",
    "            q_table[discrete_state+(action, )] = new_q\n",
    "\n",
    "        elif state_prime[0] >= env.goal_position:\n",
    "            q_table[discrete_state+(action, )] = 0\n",
    "\n",
    "        discrete_state = new_discrete_state\n",
    "    if END_EPISION_DECAYING >= episode >= START_EPSILON_DECAYING:\n",
    "        EPSILON -= epsilon_decay_value\n",
    "    ep_rewards.append(episode_reward)\n",
    "    \n",
    "    if not episode % SHOW_EVERY:\n",
    "        average_reward = sum(ep_rewards[-SHOW_EVERY:])/len(ep_rewards[-SHOW_EVERY:])\n",
    "        aggr_ep_reward[\"ep\"].append(episode)\n",
    "        aggr_ep_reward[\"avg\"].append(average_reward)\n",
    "        aggr_ep_reward[\"min\"].append(min(ep_rewards[-SHOW_EVERY:]))\n",
    "        aggr_ep_reward[\"max\"].append(max(ep_rewards[-SHOW_EVERY:]))\n",
    "        \n",
    "        print(f\"Episode:{episode} avg: {average_reward} min: {min(ep_rewards[-SHOW_EVERY:])} max: {max(ep_rewards[-SHOW_EVERY:])}\")\n",
    "              \n",
    "    env.close()\n",
    "              \n",
    "plt.plot(aggr_ep_reward[\"ep\"], aggr_ep_reward['avg'], label=\"avg\")             \n",
    "plt.plot(aggr_ep_reward[\"ep\"], aggr_ep_reward['min'], label=\"min\")             \n",
    "plt.plot(aggr_ep_reward[\"ep\"], aggr_ep_reward['max'], label=\"max\")\n",
    "plt.legend(loc=4)\n",
    "plt.show()"
   ]
  },
  {
   "cell_type": "code",
   "execution_count": null,
   "metadata": {},
   "outputs": [],
   "source": []
  }
 ],
 "metadata": {
  "kernelspec": {
   "display_name": "Python 3",
   "language": "python",
   "name": "python3"
  },
  "language_info": {
   "codemirror_mode": {
    "name": "ipython",
    "version": 3
   },
   "file_extension": ".py",
   "mimetype": "text/x-python",
   "name": "python",
   "nbconvert_exporter": "python",
   "pygments_lexer": "ipython3",
   "version": "3.8.6"
  }
 },
 "nbformat": 4,
 "nbformat_minor": 4
}
